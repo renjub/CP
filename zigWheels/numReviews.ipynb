{
 "cells": [
  {
   "cell_type": "code",
   "execution_count": 1,
   "metadata": {},
   "outputs": [
    {
     "name": "stdout",
     "output_type": "stream",
     "text": [
      "Number of reviews: 39\n"
     ]
    }
   ],
   "source": [
    "from selenium import webdriver\n",
    "from selenium.webdriver.common.by import By\n",
    "import re\n",
    "\n",
    "def extractNumberOfReviews(driver):\n",
    "    reviewDiv = driver.find_element(By.CSS_SELECTOR, '.fnt-12.clr.clr-sry.pull-left')\n",
    "    textContent = reviewDiv.text\n",
    "    match = re.search(r'Based on (\\d+) reviews', textContent)\n",
    "    if match:\n",
    "        numberOfReviews = int(match.group(1))\n",
    "        print('Number of reviews:', numberOfReviews)\n",
    "    else:\n",
    "        print('Number of reviews not found')\n",
    "\n",
    "driver = webdriver.Chrome()\n",
    "url = \"https://www.zigwheels.com/user-reviews/bajaj/avenger-220-street\"\n",
    "driver.get(url)\n",
    "extractNumberOfReviews(driver)\n",
    "driver.quit()"
   ]
  }
 ],
 "metadata": {
  "kernelspec": {
   "display_name": "Python 3",
   "language": "python",
   "name": "python3"
  },
  "language_info": {
   "codemirror_mode": {
    "name": "ipython",
    "version": 3
   },
   "file_extension": ".py",
   "mimetype": "text/x-python",
   "name": "python",
   "nbconvert_exporter": "python",
   "pygments_lexer": "ipython3",
   "version": "3.12.4"
  }
 },
 "nbformat": 4,
 "nbformat_minor": 2
}
