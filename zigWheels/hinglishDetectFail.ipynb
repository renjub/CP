{
 "cells": [
  {
   "cell_type": "code",
   "execution_count": 1,
   "metadata": {},
   "outputs": [
    {
     "name": "stdout",
     "output_type": "stream",
     "text": [
      "Language: hi, Score: 0.9999988079985614\n"
     ]
    }
   ],
   "source": [
    "import spacy\n",
    "from spacy_langdetect import LanguageDetector\n",
    "\n",
    "# Define a custom language factory function\n",
    "def get_lang_detector(nlp, name):\n",
    "    return LanguageDetector()\n",
    "\n",
    "# Load a SpaCy model\n",
    "nlp = spacy.blank(\"en\")\n",
    "\n",
    "# Check if the 'language_detector' factory is already registered\n",
    "if \"language_detector\" not in nlp.factory_names:\n",
    "    # Register the custom language detector to the pipeline\n",
    "    spacy.language.Language.factory(\"language_detector\", func=get_lang_detector)\n",
    "\n",
    "# Add the sentencizer to the pipeline for sentence boundary detection\n",
    "nlp.add_pipe(\"sentencizer\")\n",
    "\n",
    "# Add the language detector to the pipeline\n",
    "nlp.add_pipe(\"language_detector\", last=True)\n",
    "\n",
    "# Text for language detection\n",
    "text = \"यह एक हिंदी में उदाहरण पाठ है।\"\n",
    "\n",
    "# Process the text\n",
    "doc = nlp(text)\n",
    "\n",
    "# Detect the language\n",
    "detected_language = doc._.language\n",
    "\n",
    "print(f\"Language: {detected_language['language']}, Score: {detected_language['score']}\")"
   ]
  }
 ],
 "metadata": {
  "kernelspec": {
   "display_name": "Python 3",
   "language": "python",
   "name": "python3"
  },
  "language_info": {
   "codemirror_mode": {
    "name": "ipython",
    "version": 3
   },
   "file_extension": ".py",
   "mimetype": "text/x-python",
   "name": "python",
   "nbconvert_exporter": "python",
   "pygments_lexer": "ipython3",
   "version": "3.12.4"
  }
 },
 "nbformat": 4,
 "nbformat_minor": 2
}
