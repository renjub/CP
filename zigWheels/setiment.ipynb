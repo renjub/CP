{
 "cells": [
  {
   "cell_type": "code",
   "execution_count": 5,
   "metadata": {},
   "outputs": [
    {
     "ename": "SyntaxError",
     "evalue": "invalid syntax (998475762.py, line 9)",
     "output_type": "error",
     "traceback": [
      "\u001b[1;36m  Cell \u001b[1;32mIn[5], line 9\u001b[1;36m\u001b[0m\n\u001b[1;33m    dimentionality reduction\u001b[0m\n\u001b[1;37m                   ^\u001b[0m\n\u001b[1;31mSyntaxError\u001b[0m\u001b[1;31m:\u001b[0m invalid syntax\n"
     ]
    }
   ],
   "source": [
    "import spacy\n",
    "from textblob import TextBlob\n",
    "\n",
    "# Load Spacy model\n",
    "nlp = spacy.load('en_core_web_sm') #Small \n",
    "\n",
    "# Custom lists of words\n",
    "custom_negative_words = {\"disappointing\", \"bad\", \"terrible\", \"awful\", \"poor\"}\n",
    "custom_positive_words = {\"great\", \"excellent\", \"amazing\", \"fantastic\", \"good\"}\n",
    "custom_neutral_words = {\"average\", \"okay\", \"mediocre\", \"fine\", \"standard\"}\n",
    "\n",
    "def detect_sentiment(text):\n",
    "    # Use Spacy to process the text\n",
    "    doc = nlp(text)\n",
    "    \n",
    "    # Use TextBlob for general sentiment analysis\n",
    "    blob = TextBlob(doc.text)\n",
    "    polarity = blob.sentiment.polarity\n",
    "    \n",
    "    # Check for custom words\n",
    "    custom_negative_count = sum(1 for token in doc if token.text.lower() in custom_negative_words)\n",
    "    custom_positive_count = sum(1 for token in doc if token.text.lower() in custom_positive_words)\n",
    "    custom_neutral_count = sum(1 for token in doc if token.text.lower() in custom_neutral_words)\n",
    "    \n",
    "    # Adjust polarity based on custom words\n",
    "    adjusted_polarity = polarity\n",
    "    if custom_negative_count > 0:\n",
    "        adjusted_polarity -= 0.1 * custom_negative_count\n",
    "    if custom_positive_count > 0:\n",
    "        adjusted_polarity += 0.1 * custom_positive_count\n",
    "    if custom_neutral_count > 0:\n",
    "        # Neutral words can potentially bring polarity closer to zero\n",
    "        adjusted_polarity += 0.05 * custom_neutral_count if adjusted_polarity < 0 else -0.05 * custom_neutral_count\n",
    "\n",
    "    # Determine sentiment\n",
    "    if adjusted_polarity > 0.1:\n",
    "        sentiment = 'positive'\n",
    "    elif adjusted_polarity < -0.1:\n",
    "        sentiment = 'negative'\n",
    "    else:\n",
    "        sentiment = 'neutral'\n",
    "    \n",
    "    return sentiment\n",
    "\n",
    "# Example usage\n",
    "text = \"The product was amazing but the service was disappointing.\"\n",
    "sentiment = detect_sentiment(text)\n",
    "print(f'The sentiment of the text is: {sentiment}')"
   ]
  }
 ],
 "metadata": {
  "kernelspec": {
   "display_name": "Python 3",
   "language": "python",
   "name": "python3"
  },
  "language_info": {
   "codemirror_mode": {
    "name": "ipython",
    "version": 3
   },
   "file_extension": ".py",
   "mimetype": "text/x-python",
   "name": "python",
   "nbconvert_exporter": "python",
   "pygments_lexer": "ipython3",
   "version": "3.12.4"
  }
 },
 "nbformat": 4,
 "nbformat_minor": 2
}
