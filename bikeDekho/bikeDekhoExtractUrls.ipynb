{
 "cells": [
  {
   "cell_type": "code",
   "execution_count": null,
   "metadata": {},
   "outputs": [
    {
     "name": "stdout",
     "output_type": "stream",
     "text": [
      "Data has been written to bike_links.csv\n"
     ]
    }
   ],
   "source": [
    "import requests\n",
    "from bs4 import BeautifulSoup\n",
    "import pandas as pd\n",
    "\n",
    "# URL of the webpage\n",
    "url = \"https://www.bikedekho.com/bajaj-bikes\"\n",
    "\n",
    "# Add headers to mimic a real browser\n",
    "headers = {\n",
    "    \"User-Agent\": \"Mozilla/5.0 (Windows NT 10.0; Win64; x64) AppleWebKit/537.36 (KHTML, like Gecko) Chrome/87.0.4280.88 Safari/537.36\"\n",
    "}\n",
    "\n",
    "# Initialize an empty list to store bike data\n",
    "bike_data = []\n",
    "\n",
    "# Make a GET request with headers\n",
    "response = requests.get(url, headers=headers)\n",
    "if response.status_code == 200:\n",
    "    # Parse the HTML content using BeautifulSoup\n",
    "    soup = BeautifulSoup(response.content, \"html.parser\")\n",
    "    \n",
    "    # Use a broader selector to find all main bike link elements\n",
    "    bike_elements = soup.select(\"div.gsc_col-sm-12.gsc_col-xs-12.gsc_col-md-8.listView.holder.posS > a\")\n",
    "    \n",
    "    # Extract each bike name and link, excluding specific keywords\n",
    "    for element in bike_elements:\n",
    "        bike_name = element.select_one(\"h3\").text.strip() if element.select_one(\"h3\") else \"N/A\"\n",
    "        bajaj_links = element['href'] if 'href' in element.attrs else \"N/A\"\n",
    "        \n",
    "        # Exclude unwanted links (e.g., those containing \"price-in-delhi\")\n",
    "        if \"price-in-delhi\" not in bajaj_links.lower():\n",
    "            bike_data.append({\"Bike Name\": bike_name, \"Link\": bajaj_links})\n",
    "else:\n",
    "    print(\"Failed to retrieve the webpage\")\n",
    "\n",
    "# Create a DataFrame from the list\n",
    "bike_df = pd.DataFrame(bike_data)\n",
    "\n",
    "# Write the DataFrame to a CSV file\n",
    "bike_df.to_csv(\"bajajUrls.csv\", index=False)\n",
    "\n",
    "print(\"Data has been written to bike_links.csv\")\n"
   ]
  }
 ],
 "metadata": {
  "kernelspec": {
   "display_name": "cp_env",
   "language": "python",
   "name": "python3"
  },
  "language_info": {
   "codemirror_mode": {
    "name": "ipython",
    "version": 3
   },
   "file_extension": ".py",
   "mimetype": "text/x-python",
   "name": "python",
   "nbconvert_exporter": "python",
   "pygments_lexer": "ipython3",
   "version": "3.8.10"
  }
 },
 "nbformat": 4,
 "nbformat_minor": 2
}
