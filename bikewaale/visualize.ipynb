{
 "cells": [
  {
   "cell_type": "code",
   "execution_count": null,
   "metadata": {},
   "outputs": [],
   "source": [
    "import pandas as pd\n",
    "import matplotlib.pyplot as plt\n",
    "import seaborn as sns\n",
    "\n",
    "# Read the CSV file with bike reviews and sentiments\n",
    "file_path = 'temp.csv'\n",
    "df = pd.read_csv(file_path)\n",
    "\n",
    "# Group the data by 'Bike Name' and 'Sentiment' and count the number of reviews\n",
    "sentiment_counts = df.groupby(['Bike Name', 'Sentiment']).size().reset_index(name='Count')\n",
    "\n",
    "# Pivot the data to have sentiments as columns\n",
    "sentiment_pivot = sentiment_counts.pivot(index='Bike Name', columns='Sentiment', values='Count').fillna(0)\n",
    "\n",
    "# Ensure the sentiment columns are in a consistent order\n",
    "sentiment_order = ['Positive', 'Negative', 'Neutral']\n",
    "sentiment_pivot = sentiment_pivot.reindex(columns=sentiment_order, fill_value=0)\n",
    "\n",
    "# Plot the sentiment distribution for each bike\n",
    "sentiment_pivot.plot(kind='bar', stacked=True, figsize=(12, 8), colormap='viridis')\n",
    "\n",
    "plt.title('Sentiment Distribution by Bike Name')\n",
    "plt.xlabel('Bike Name')\n",
    "plt.ylabel('Number of Reviews')\n",
    "plt.legend(title='Sentiment')\n",
    "plt.xticks(rotation=45, ha='right')\n",
    "plt.tight_layout()\n",
    "plt.show()"
   ]
  }
 ],
 "metadata": {
  "language_info": {
   "name": "python"
  }
 },
 "nbformat": 4,
 "nbformat_minor": 2
}
