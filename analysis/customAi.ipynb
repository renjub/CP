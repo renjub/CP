{
 "cells": [
  {
   "cell_type": "code",
   "execution_count": 1,
   "metadata": {},
   "outputs": [
    {
     "name": "stderr",
     "output_type": "stream",
     "text": [
      "/usr/lib/python3/dist-packages/requests/__init__.py:89: RequestsDependencyWarning: urllib3 (1.26.20) or chardet (3.0.4) doesn't match a supported version!\n",
      "  warnings.warn(\"urllib3 ({}) or chardet ({}) doesn't match a supported \"\n"
     ]
    },
    {
     "name": "stdout",
     "output_type": "stream",
     "text": [
      "Epoch 1 Loss: 0.25\n",
      "Epoch 2 Loss: 0.24965250492095947\n",
      "Epoch 3 Loss: 0.24684181809425354\n",
      "Epoch 4 Loss: 0.24443937838077545\n",
      "Epoch 5 Loss: 0.23759663105010986\n",
      "Epoch 6 Loss: 0.2380262315273285\n",
      "Epoch 7 Loss: 0.21276113390922546\n",
      "Epoch 8 Loss: 0.20081663131713867\n",
      "Epoch 9 Loss: 0.20248420536518097\n",
      "Epoch 10 Loss: 0.17722563445568085\n",
      "I absolutely love this! {'POSITIVE': 0.5733842253684998, 'NEGATIVE': 0.42661580443382263}\n",
      "This is terrible and I hate it. {'POSITIVE': 0.46691903471946716, 'NEGATIVE': 0.5330809950828552}\n",
      "I am not sure how I feel about this. {'POSITIVE': 0.47172972559928894, 'NEGATIVE': 0.5282702445983887}\n"
     ]
    }
   ],
   "source": [
    "import spacy\n",
    "from spacy.training.example import Example\n",
    "from spacy.util import minibatch, compounding\n",
    "import random\n",
    "\n",
    "# Step 1: Load a blank SpaCy model\n",
    "nlp = spacy.blank(\"en\")\n",
    "\n",
    "# Step 2: Add the text classification pipeline component to the model\n",
    "if \"textcat\" not in nlp.pipe_names:\n",
    "    textcat = nlp.add_pipe(\"textcat\", last=True)\n",
    "else:\n",
    "    textcat = nlp.get_pipe(\"textcat\")\n",
    "\n",
    "# Step 3: Add labels for sentiment classification (positive, negative)\n",
    "textcat.add_label(\"POSITIVE\")\n",
    "textcat.add_label(\"NEGATIVE\")\n",
    "\n",
    "# Step 4: Create a labeled training dataset (list of tuples with text and label)\n",
    "# Each label is a dictionary with {'cats': {'POSITIVE': value, 'NEGATIVE': value}}\n",
    "train_data = [\n",
    "    (\"I love this product, it is great!\",             {\"cats\": {\"POSITIVE\": 1, \"NEGATIVE\": 0}}),\n",
    "    (\"This is the worst thing I have ever bought.\",   {\"cats\": {\"POSITIVE\": 0, \"NEGATIVE\": 1}}),\n",
    "    (\"I am extremely happy with my purchase!\",        {\"cats\": {\"POSITIVE\": 1, \"NEGATIVE\": 0}}),\n",
    "    (\"I hate this so much, it was a waste of money.\", {\"cats\": {\"POSITIVE\": 0, \"NEGATIVE\": 1}}),\n",
    "    # Add more labeled examples here\n",
    "]\n",
    "\n",
    "# Step 5: Train the model\n",
    "# Disable other pipeline components to only train the textcat component\n",
    "other_pipes = [pipe for pipe in nlp.pipe_names if pipe != \"textcat\"]\n",
    "with nlp.disable_pipes(*other_pipes):  # Only train textcat\n",
    "    optimizer = nlp.begin_training()\n",
    "    for epoch in range(10):  # Train for 10 epochs\n",
    "        random.shuffle(train_data)\n",
    "        losses = {}\n",
    "        # Use minibatch training\n",
    "        batches = minibatch(train_data, size=compounding(4.0, 32.0, 1.001))\n",
    "        for batch in batches:\n",
    "            examples = []\n",
    "            for text, annotations in batch:\n",
    "                doc = nlp.make_doc(text)\n",
    "                examples.append(Example.from_dict(doc, annotations))\n",
    "            nlp.update(examples, drop=0.2, losses=losses)\n",
    "        print(f\"Epoch {epoch + 1} Loss: {losses['textcat']}\")\n",
    "\n",
    "# Step 6: Test the model with new examples\n",
    "test_texts = [\n",
    "    \"I absolutely love this!\",\n",
    "    \"This is terrible and I hate it.\",\n",
    "    \"I am not sure how I feel about this.\",\n",
    "]\n",
    "\n",
    "for text in test_texts:\n",
    "    doc = nlp(text)\n",
    "    print(text, doc.cats)  # Returns a dictionary with POSITIVE/NEGATIVE scores\n",
    "\n",
    "# Step 7: Save the trained model to a directory\n",
    "nlp.to_disk(\"sentiment_model\")\n",
    "\n",
    "# To load the model later for use\n",
    "# nlp2 = spacy.load(\"sentiment_model\")"
   ]
  }
 ],
 "metadata": {
  "kernelspec": {
   "display_name": "Python 3",
   "language": "python",
   "name": "python3"
  },
  "language_info": {
   "codemirror_mode": {
    "name": "ipython",
    "version": 3
   },
   "file_extension": ".py",
   "mimetype": "text/x-python",
   "name": "python",
   "nbconvert_exporter": "python",
   "pygments_lexer": "ipython3",
   "version": "3.8.10"
  }
 },
 "nbformat": 4,
 "nbformat_minor": 2
}
