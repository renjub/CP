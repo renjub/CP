{
 "cells": [
  {
   "cell_type": "code",
   "execution_count": 4,
   "metadata": {},
   "outputs": [
    {
     "name": "stderr",
     "output_type": "stream",
     "text": [
      "[nltk_data] Downloading package vader_lexicon to\n",
      "[nltk_data]     /home/renju/nltk_data...\n",
      "[nltk_data]   Package vader_lexicon is already up-to-date!\n"
     ]
    },
    {
     "name": "stdout",
     "output_type": "stream",
     "text": [
      "TextBlob Sentiment: Sentiment(polarity=0.0, subjectivity=0.75)\n",
      "VADER Sentiment: {'neg': 0.301, 'neu': 0.509, 'pos': 0.189, 'compound': -0.3699}\n",
      "SpaCy Sentiment: [('I', 0.0), ('love', 0.0), ('coding', 0.0), (',', 0.0), ('but', 0.0), ('sometimes', 0.0), ('it', 0.0), ('can', 0.0), ('be', 0.0), ('frustrating', 0.0), ('!', 0.0)]\n",
      "NLTK VADER Sentiment: {'neg': 0.325, 'neu': 0.471, 'pos': 0.204, 'compound': -0.3699}\n",
      "Transformers Sentiment: [{'label': 'NEGATIVE', 'score': 0.9928966164588928}]\n",
      "Flair Sentiment: ['Sentence[11]: \"I love coding, but sometimes it can be frustrating!\"'/'POSITIVE' (0.9764)]\n"
     ]
    }
   ],
   "source": [
    "from textblob import TextBlob\n",
    "from vaderSentiment.vaderSentiment import SentimentIntensityAnalyzer\n",
    "import spacy\n",
    "from nltk.sentiment.vader import SentimentIntensityAnalyzer as NLTKSIA\n",
    "from transformers import pipeline\n",
    "from flair.models import TextClassifier\n",
    "from flair.data import Sentence\n",
    "import nltk\n",
    "nltk.download('vader_lexicon')\n",
    "\n",
    "# Function for TextBlob sentiment analysis\n",
    "def textblob_sentiment(text):\n",
    "    analysis = TextBlob(text)\n",
    "    return analysis.sentiment\n",
    "\n",
    "# Function for VADER sentiment analysis\n",
    "def vader_sentiment(text):\n",
    "    analyzer = SentimentIntensityAnalyzer()\n",
    "    return analyzer.polarity_scores(text)\n",
    "\n",
    "# # Function for SpaCy sentiment analysis (Note: requires a custom model or external integration)\n",
    "# def spacy_sentiment(text):\n",
    "#     nlp = spacy.load('en_core_web_sm')\n",
    "#     doc = nlp(text)\n",
    "#     return [(token.text, token.sentiment) for token in doc]\n",
    "\n",
    "# Function for NLTK VADER sentiment analysis\n",
    "def nltk_vader_sentiment(text):\n",
    "    analyzer = NLTKSIA()\n",
    "    return analyzer.polarity_scores(text)\n",
    "\n",
    "# Function for Hugging Face transformers sentiment analysis\n",
    "def transformers_sentiment(text):\n",
    "    sentiment_analyzer = pipeline(\"sentiment-analysis\")\n",
    "    return sentiment_analyzer(text)\n",
    "\n",
    "# Function for Flair sentiment analysis\n",
    "def flair_sentiment(text):\n",
    "    classifier = TextClassifier.load('en-sentiment')\n",
    "    sentence = Sentence(text)\n",
    "    classifier.predict(sentence)\n",
    "    return sentence.labels\n",
    "\n",
    "# Sample text for testing\n",
    "text = \"I love coding, but sometimes it can be frustrating!\"\n",
    "\n",
    "# Testing each function\n",
    "print(\"TextBlob Sentiment:\", textblob_sentiment(text))\n",
    "print(\"VADER Sentiment:\", vader_sentiment(text))\n",
    "print(\"SpaCy Sentiment:\", spacy_sentiment(text))  # SpaCy doesn't have sentiment analysis by default\n",
    "print(\"NLTK VADER Sentiment:\", nltk_vader_sentiment(text))\n",
    "print(\"Transformers Sentiment:\", transformers_sentiment(text))\n",
    "print(\"Flair Sentiment:\", flair_sentiment(text))\n"
   ]
  }
 ],
 "metadata": {
  "kernelspec": {
   "display_name": "Python 3",
   "language": "python",
   "name": "python3"
  },
  "language_info": {
   "codemirror_mode": {
    "name": "ipython",
    "version": 3
   },
   "file_extension": ".py",
   "mimetype": "text/x-python",
   "name": "python",
   "nbconvert_exporter": "python",
   "pygments_lexer": "ipython3",
   "version": "3.8.10"
  }
 },
 "nbformat": 4,
 "nbformat_minor": 2
}
