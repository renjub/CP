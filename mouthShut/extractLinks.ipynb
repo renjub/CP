{
 "cells": [
  {
   "cell_type": "code",
   "execution_count": 6,
   "metadata": {},
   "outputs": [
    {
     "name": "stdout",
     "output_type": "stream",
     "text": [
      "Data extracted from current page.\n",
      "Data extracted from current page.\n",
      "Data extracted from current page.\n",
      "No more pages to scrape.\n",
      "Data successfully saved to extracted_data.csv\n"
     ]
    }
   ],
   "source": [
    "import asyncio\n",
    "from playwright.async_api import async_playwright\n",
    "import nest_asyncio\n",
    "import csv\n",
    "\n",
    "# Apply nest_asyncio to allow multiple event loops in Jupyter\n",
    "nest_asyncio.apply()\n",
    "\n",
    "async def extract_and_save_to_csv():\n",
    "    async with async_playwright() as p:\n",
    "        # Launch the browser\n",
    "        browser = await p.chromium.launch(headless=True)\n",
    "        page = await browser.new_page()\n",
    "\n",
    "        # Navigate to the desired URL\n",
    "        url = 'https://www.mouthshut.com/bajaj-auto-bikes-proid-925019'\n",
    "        await page.goto(url)\n",
    "\n",
    "        # Wait for the page to load\n",
    "        await page.wait_for_timeout(2000)\n",
    "\n",
    "        # Specify the CSV file name\n",
    "        csv_filename = \"extracted_data.csv\"\n",
    "\n",
    "        # Open the CSV file for writing and create a writer object\n",
    "        with open(csv_filename, mode='w', newline='', encoding='utf-8') as file:\n",
    "            writer = csv.writer(file)\n",
    "            # Write header\n",
    "            writer.writerow([\"Text\", \"Link\"])\n",
    "\n",
    "            while True:\n",
    "                # Extract all elements that match the general pattern for nth-child elements\n",
    "                elements = await page.query_selector_all('#aspnetForm > div.container-fluid.p-0.header_ms > div.main-content > div.custom-container.p-15 > div > div.listing-section > div.row > div.col.listing-rightbar > div.card-deck > div > div.card-body > div.listing-prod-title > a')\n",
    "\n",
    "                # Loop through each element and extract the text and 'href' attribute (the link)\n",
    "                for element in elements:\n",
    "                    text = await element.inner_text()\n",
    "                    link = await element.get_attribute('href')\n",
    "                    # Write the extracted text and link to the CSV file\n",
    "                    writer.writerow([text, link])\n",
    "\n",
    "                print(\"Data extracted from current page.\")\n",
    "\n",
    "                # Check if the \"Next\" button is available\n",
    "                next_button = await page.query_selector('#aspnetForm > div.container-fluid.p-0.header_ms > div.main-content > div.custom-container.p-15 > div > div.listing-section > div.row > div.col.listing-rightbar > nav > ul > li.page-item.next > a')\n",
    "                if next_button:\n",
    "                    # Click the \"Next\" button\n",
    "                    await next_button.click()\n",
    "\n",
    "                    # Wait for the next page to load\n",
    "                    await page.wait_for_timeout(2000)\n",
    "                else:\n",
    "                    # No \"Next\" button, exit the loop\n",
    "                    print(\"No more pages to scrape.\")\n",
    "                    break\n",
    "\n",
    "        print(f\"Data successfully saved to {csv_filename}\")\n",
    "\n",
    "        # Close the browser\n",
    "        await browser.close()\n",
    "\n",
    "# Run the function in Jupyter\n",
    "await extract_and_save_to_csv()\n"
   ]
  }
 ],
 "metadata": {
  "kernelspec": {
   "display_name": "Python 3",
   "language": "python",
   "name": "python3"
  },
  "language_info": {
   "codemirror_mode": {
    "name": "ipython",
    "version": 3
   },
   "file_extension": ".py",
   "mimetype": "text/x-python",
   "name": "python",
   "nbconvert_exporter": "python",
   "pygments_lexer": "ipython3",
   "version": "3.8.10"
  }
 },
 "nbformat": 4,
 "nbformat_minor": 2
}
